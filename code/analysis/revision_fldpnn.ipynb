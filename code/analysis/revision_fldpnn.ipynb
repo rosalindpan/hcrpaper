{
 "cells": [
  {
   "cell_type": "code",
   "execution_count": 1,
   "metadata": {},
   "outputs": [],
   "source": [
    "## processing\n",
    "import numpy as np\n",
    "import pandas as pd\n",
    "\n",
    "## visualization\n",
    "import matplotlib.pyplot as plt\n",
    "import seaborn as sns"
   ]
  },
  {
   "attachments": {},
   "cell_type": "markdown",
   "metadata": {},
   "source": [
    "### Classifying sequences using flDPnn"
   ]
  },
  {
   "cell_type": "code",
   "execution_count": 2,
   "metadata": {},
   "outputs": [
    {
     "data": {
      "text/html": [
       "<div>\n",
       "<style scoped>\n",
       "    .dataframe tbody tr th:only-of-type {\n",
       "        vertical-align: middle;\n",
       "    }\n",
       "\n",
       "    .dataframe tbody tr th {\n",
       "        vertical-align: top;\n",
       "    }\n",
       "\n",
       "    .dataframe thead th {\n",
       "        text-align: right;\n",
       "    }\n",
       "</style>\n",
       "<table border=\"1\" class=\"dataframe\">\n",
       "  <thead>\n",
       "    <tr style=\"text-align: right;\">\n",
       "      <th></th>\n",
       "      <th>ORF</th>\n",
       "      <th>Residue Number</th>\n",
       "      <th>Residue Type</th>\n",
       "      <th>Predicted Score for Disorder</th>\n",
       "      <th>Binary Prediction for Disorder</th>\n",
       "      <th>rdp_r</th>\n",
       "      <th>rdp_d</th>\n",
       "      <th>rdp_p</th>\n",
       "      <th>dfl</th>\n",
       "      <th>fmorf</th>\n",
       "    </tr>\n",
       "  </thead>\n",
       "  <tbody>\n",
       "    <tr>\n",
       "      <th>0</th>\n",
       "      <td>Q0045</td>\n",
       "      <td>1</td>\n",
       "      <td>M</td>\n",
       "      <td>0.059</td>\n",
       "      <td>0</td>\n",
       "      <td>0.062</td>\n",
       "      <td>0.052</td>\n",
       "      <td>0.269</td>\n",
       "      <td>0.077</td>\n",
       "      <td>0.4990</td>\n",
       "    </tr>\n",
       "    <tr>\n",
       "      <th>1</th>\n",
       "      <td>Q0045</td>\n",
       "      <td>2</td>\n",
       "      <td>V</td>\n",
       "      <td>0.055</td>\n",
       "      <td>0</td>\n",
       "      <td>0.062</td>\n",
       "      <td>0.086</td>\n",
       "      <td>0.292</td>\n",
       "      <td>0.095</td>\n",
       "      <td>0.4990</td>\n",
       "    </tr>\n",
       "    <tr>\n",
       "      <th>2</th>\n",
       "      <td>Q0045</td>\n",
       "      <td>3</td>\n",
       "      <td>Q</td>\n",
       "      <td>0.028</td>\n",
       "      <td>0</td>\n",
       "      <td>0.040</td>\n",
       "      <td>0.085</td>\n",
       "      <td>0.323</td>\n",
       "      <td>0.095</td>\n",
       "      <td>0.4990</td>\n",
       "    </tr>\n",
       "    <tr>\n",
       "      <th>3</th>\n",
       "      <td>Q0045</td>\n",
       "      <td>4</td>\n",
       "      <td>R</td>\n",
       "      <td>0.024</td>\n",
       "      <td>0</td>\n",
       "      <td>0.036</td>\n",
       "      <td>0.086</td>\n",
       "      <td>0.302</td>\n",
       "      <td>0.080</td>\n",
       "      <td>0.4990</td>\n",
       "    </tr>\n",
       "    <tr>\n",
       "      <th>4</th>\n",
       "      <td>Q0045</td>\n",
       "      <td>5</td>\n",
       "      <td>W</td>\n",
       "      <td>0.020</td>\n",
       "      <td>0</td>\n",
       "      <td>0.036</td>\n",
       "      <td>0.091</td>\n",
       "      <td>0.287</td>\n",
       "      <td>0.083</td>\n",
       "      <td>0.4132</td>\n",
       "    </tr>\n",
       "    <tr>\n",
       "      <th>5</th>\n",
       "      <td>Q0045</td>\n",
       "      <td>6</td>\n",
       "      <td>L</td>\n",
       "      <td>0.017</td>\n",
       "      <td>0</td>\n",
       "      <td>0.031</td>\n",
       "      <td>0.095</td>\n",
       "      <td>0.280</td>\n",
       "      <td>0.069</td>\n",
       "      <td>0.4312</td>\n",
       "    </tr>\n",
       "    <tr>\n",
       "      <th>6</th>\n",
       "      <td>Q0045</td>\n",
       "      <td>7</td>\n",
       "      <td>Y</td>\n",
       "      <td>0.019</td>\n",
       "      <td>0</td>\n",
       "      <td>0.029</td>\n",
       "      <td>0.097</td>\n",
       "      <td>0.290</td>\n",
       "      <td>0.070</td>\n",
       "      <td>0.4655</td>\n",
       "    </tr>\n",
       "    <tr>\n",
       "      <th>7</th>\n",
       "      <td>Q0045</td>\n",
       "      <td>8</td>\n",
       "      <td>S</td>\n",
       "      <td>0.019</td>\n",
       "      <td>0</td>\n",
       "      <td>0.028</td>\n",
       "      <td>0.088</td>\n",
       "      <td>0.324</td>\n",
       "      <td>0.073</td>\n",
       "      <td>0.3772</td>\n",
       "    </tr>\n",
       "    <tr>\n",
       "      <th>8</th>\n",
       "      <td>Q0045</td>\n",
       "      <td>9</td>\n",
       "      <td>T</td>\n",
       "      <td>0.019</td>\n",
       "      <td>0</td>\n",
       "      <td>0.029</td>\n",
       "      <td>0.073</td>\n",
       "      <td>0.334</td>\n",
       "      <td>0.067</td>\n",
       "      <td>0.3242</td>\n",
       "    </tr>\n",
       "    <tr>\n",
       "      <th>9</th>\n",
       "      <td>Q0045</td>\n",
       "      <td>10</td>\n",
       "      <td>N</td>\n",
       "      <td>0.021</td>\n",
       "      <td>0</td>\n",
       "      <td>0.035</td>\n",
       "      <td>0.080</td>\n",
       "      <td>0.338</td>\n",
       "      <td>0.073</td>\n",
       "      <td>0.3707</td>\n",
       "    </tr>\n",
       "  </tbody>\n",
       "</table>\n",
       "</div>"
      ],
      "text/plain": [
       "     ORF  Residue Number Residue Type  Predicted Score for Disorder  \\\n",
       "0  Q0045               1            M                         0.059   \n",
       "1  Q0045               2            V                         0.055   \n",
       "2  Q0045               3            Q                         0.028   \n",
       "3  Q0045               4            R                         0.024   \n",
       "4  Q0045               5            W                         0.020   \n",
       "5  Q0045               6            L                         0.017   \n",
       "6  Q0045               7            Y                         0.019   \n",
       "7  Q0045               8            S                         0.019   \n",
       "8  Q0045               9            T                         0.019   \n",
       "9  Q0045              10            N                         0.021   \n",
       "\n",
       "   Binary Prediction for Disorder  rdp_r  rdp_d  rdp_p    dfl   fmorf  \n",
       "0                               0  0.062  0.052  0.269  0.077  0.4990  \n",
       "1                               0  0.062  0.086  0.292  0.095  0.4990  \n",
       "2                               0  0.040  0.085  0.323  0.095  0.4990  \n",
       "3                               0  0.036  0.086  0.302  0.080  0.4990  \n",
       "4                               0  0.036  0.091  0.287  0.083  0.4132  \n",
       "5                               0  0.031  0.095  0.280  0.069  0.4312  \n",
       "6                               0  0.029  0.097  0.290  0.070  0.4655  \n",
       "7                               0  0.028  0.088  0.324  0.073  0.3772  \n",
       "8                               0  0.029  0.073  0.334  0.067  0.3242  \n",
       "9                               0  0.035  0.080  0.338  0.073  0.3707  "
      ]
     },
     "execution_count": 2,
     "metadata": {},
     "output_type": "execute_result"
    }
   ],
   "source": [
    "df_fldpnn = pd.read_table('~/drummondlab/fldpnn-scer-summary.txt', comment='#')\n",
    "df_fldpnn.head(10)"
   ]
  },
  {
   "cell_type": "code",
   "execution_count": 3,
   "metadata": {},
   "outputs": [],
   "source": [
    "def append_fldpnn_label(row):\n",
    "    orf = row['orf']\n",
    "    left_bound = row['left_bound']\n",
    "    right_bound = row['right_bound']\n",
    "    region = row['region_seq']\n",
    "    \n",
    "    if orf in df_fldpnn['ORF'].unique():\n",
    "        fldpnn_pred = df_fldpnn[df_fldpnn.ORF == orf]\n",
    "        fldpnn_region = ''.join(fldpnn_pred['Residue Type'].to_list()[left_bound:(right_bound+1)])\n",
    "        if not fldpnn_region == region:\n",
    "            print(fldpnn_region)\n",
    "            print(region)\n",
    "        #assert fldpnn_region == region\n",
    "        total_score = np.mean(fldpnn_pred['Predicted Score for Disorder'].to_list()[left_bound:(right_bound+1)])\n",
    "        if total_score >= 0.3:\n",
    "            return 'disordered'\n",
    "        else:\n",
    "            return 'helix'\n",
    "    else:\n",
    "        return None"
   ]
  },
  {
   "cell_type": "code",
   "execution_count": 4,
   "metadata": {},
   "outputs": [],
   "source": [
    "with open('../../data/misc/uniprot-to-sgdid.txt') as f:\n",
    "    mappings = {}\n",
    "    for line in f:\n",
    "        uniprot = line[95:106].rstrip()\n",
    "        orf = line[75:95].rstrip()\n",
    "        mappings[uniprot] = orf"
   ]
  },
  {
   "cell_type": "code",
   "execution_count": 5,
   "metadata": {},
   "outputs": [],
   "source": [
    "def append_orf(row):\n",
    "    return mappings[row['uni_id']]"
   ]
  },
  {
   "cell_type": "code",
   "execution_count": 4,
   "metadata": {},
   "outputs": [
    {
     "data": {
      "text/html": [
       "<div>\n",
       "<style scoped>\n",
       "    .dataframe tbody tr th:only-of-type {\n",
       "        vertical-align: middle;\n",
       "    }\n",
       "\n",
       "    .dataframe tbody tr th {\n",
       "        vertical-align: top;\n",
       "    }\n",
       "\n",
       "    .dataframe thead th {\n",
       "        text-align: right;\n",
       "    }\n",
       "</style>\n",
       "<table border=\"1\" class=\"dataframe\">\n",
       "  <thead>\n",
       "    <tr style=\"text-align: right;\">\n",
       "      <th></th>\n",
       "      <th>orf</th>\n",
       "      <th>gene</th>\n",
       "      <th>seq.len</th>\n",
       "      <th>left_bound</th>\n",
       "      <th>right_bound</th>\n",
       "      <th>region_seq</th>\n",
       "      <th>region.len</th>\n",
       "      <th>charge.asymmetry</th>\n",
       "      <th>frac.charge</th>\n",
       "      <th>uni_id</th>\n",
       "      <th>orf_label</th>\n",
       "      <th>kappa</th>\n",
       "      <th>label</th>\n",
       "      <th>fldpnn_label</th>\n",
       "    </tr>\n",
       "  </thead>\n",
       "  <tbody>\n",
       "    <tr>\n",
       "      <th>0</th>\n",
       "      <td>YAL011W</td>\n",
       "      <td>SWC3</td>\n",
       "      <td>626</td>\n",
       "      <td>5</td>\n",
       "      <td>53</td>\n",
       "      <td>RTRSKESSIEQKPASRTRTRSRRGKRGRDDDDDDDDEESDDAYDEVGND</td>\n",
       "      <td>49</td>\n",
       "      <td>0.017593</td>\n",
       "      <td>0.591837</td>\n",
       "      <td>P31376</td>\n",
       "      <td>verified</td>\n",
       "      <td>0.539053</td>\n",
       "      <td>disordered</td>\n",
       "      <td>disordered</td>\n",
       "    </tr>\n",
       "    <tr>\n",
       "      <th>1</th>\n",
       "      <td>YAL011W</td>\n",
       "      <td>SWC3</td>\n",
       "      <td>626</td>\n",
       "      <td>169</td>\n",
       "      <td>261</td>\n",
       "      <td>RLFILKNDKIEQKWQDEQELKKKEKELKRKNDAEAKRLRMEERKRQ...</td>\n",
       "      <td>93</td>\n",
       "      <td>0.052936</td>\n",
       "      <td>0.559140</td>\n",
       "      <td>P31376</td>\n",
       "      <td>verified</td>\n",
       "      <td>0.098538</td>\n",
       "      <td>helix</td>\n",
       "      <td>helix</td>\n",
       "    </tr>\n",
       "    <tr>\n",
       "      <th>2</th>\n",
       "      <td>YAL011W</td>\n",
       "      <td>SWC3</td>\n",
       "      <td>626</td>\n",
       "      <td>361</td>\n",
       "      <td>424</td>\n",
       "      <td>KTAATEPEPKKADDENAEKQQSKEAKTTAESTQVDVKKEEEDVKEK...</td>\n",
       "      <td>64</td>\n",
       "      <td>0.007812</td>\n",
       "      <td>0.500000</td>\n",
       "      <td>P31376</td>\n",
       "      <td>verified</td>\n",
       "      <td>0.089231</td>\n",
       "      <td>disordered</td>\n",
       "      <td>disordered</td>\n",
       "    </tr>\n",
       "    <tr>\n",
       "      <th>3</th>\n",
       "      <td>YAL013W</td>\n",
       "      <td>DEP1</td>\n",
       "      <td>406</td>\n",
       "      <td>84</td>\n",
       "      <td>159</td>\n",
       "      <td>ESLKRPHEDEKEAIDEAKKMKVPGENEDESKEEEKSQELEEAIDSK...</td>\n",
       "      <td>76</td>\n",
       "      <td>0.138444</td>\n",
       "      <td>0.592105</td>\n",
       "      <td>P31385</td>\n",
       "      <td>verified</td>\n",
       "      <td>0.219047</td>\n",
       "      <td>disordered</td>\n",
       "      <td>disordered</td>\n",
       "    </tr>\n",
       "    <tr>\n",
       "      <th>4</th>\n",
       "      <td>YAL019W</td>\n",
       "      <td>FUN30</td>\n",
       "      <td>1132</td>\n",
       "      <td>463</td>\n",
       "      <td>538</td>\n",
       "      <td>ERETKRIRNTTKPKVVEDEDDDVDLEAIDDELPQSEHEDDDYEEED...</td>\n",
       "      <td>76</td>\n",
       "      <td>0.269474</td>\n",
       "      <td>0.644737</td>\n",
       "      <td>P31380</td>\n",
       "      <td>verified</td>\n",
       "      <td>0.498598</td>\n",
       "      <td>disordered</td>\n",
       "      <td>disordered</td>\n",
       "    </tr>\n",
       "  </tbody>\n",
       "</table>\n",
       "</div>"
      ],
      "text/plain": [
       "       orf   gene  seq.len  left_bound  right_bound  \\\n",
       "0  YAL011W   SWC3      626           5           53   \n",
       "1  YAL011W   SWC3      626         169          261   \n",
       "2  YAL011W   SWC3      626         361          424   \n",
       "3  YAL013W   DEP1      406          84          159   \n",
       "4  YAL019W  FUN30     1132         463          538   \n",
       "\n",
       "                                          region_seq  region.len  \\\n",
       "0  RTRSKESSIEQKPASRTRTRSRRGKRGRDDDDDDDDEESDDAYDEVGND          49   \n",
       "1  RLFILKNDKIEQKWQDEQELKKKEKELKRKNDAEAKRLRMEERKRQ...          93   \n",
       "2  KTAATEPEPKKADDENAEKQQSKEAKTTAESTQVDVKKEEEDVKEK...          64   \n",
       "3  ESLKRPHEDEKEAIDEAKKMKVPGENEDESKEEEKSQELEEAIDSK...          76   \n",
       "4  ERETKRIRNTTKPKVVEDEDDDVDLEAIDDELPQSEHEDDDYEEED...          76   \n",
       "\n",
       "   charge.asymmetry  frac.charge  uni_id orf_label     kappa       label  \\\n",
       "0          0.017593     0.591837  P31376  verified  0.539053  disordered   \n",
       "1          0.052936     0.559140  P31376  verified  0.098538       helix   \n",
       "2          0.007812     0.500000  P31376  verified  0.089231  disordered   \n",
       "3          0.138444     0.592105  P31385  verified  0.219047  disordered   \n",
       "4          0.269474     0.644737  P31380  verified  0.498598  disordered   \n",
       "\n",
       "  fldpnn_label  \n",
       "0   disordered  \n",
       "1        helix  \n",
       "2   disordered  \n",
       "3   disordered  \n",
       "4   disordered  "
      ]
     },
     "execution_count": 4,
     "metadata": {},
     "output_type": "execute_result"
    }
   ],
   "source": [
    "fldpnn_hc = pd.read_csv('../../data/charged_regions/cr_trimmed_filtered_aflabel.csv')\n",
    "fldpnn_hc.rename(columns={'left.bound': 'left_bound', 'right.bound': 'right_bound', 'region.seq': 'region_seq'}, inplace=True)\n",
    "fldpnn_hc['fldpnn_label'] = fldpnn_hc.apply(lambda row: append_fldpnn_label(row), axis=1)\n",
    "fldpnn_hc.head(5)"
   ]
  },
  {
   "cell_type": "code",
   "execution_count": 8,
   "metadata": {},
   "outputs": [],
   "source": [
    "fldpnn_hc.to_csv('../../data/charged_regions/cr_trimmed_filtered_aflabel_fldpnnlabel.csv')"
   ]
  },
  {
   "cell_type": "code",
   "execution_count": 7,
   "metadata": {},
   "outputs": [
    {
     "name": "stdout",
     "output_type": "stream",
     "text": [
      "IGIAIVFAALINGVSRNPSIKDLVFPMAILGFALSEATGLFCLM\n",
      "IGIAIVFAALINGVSRNPSIKDTVFPMAILGFALSEATGLFCLM\n",
      "DIVSLVVQAVGGGLCGVAVTDGTSTTTGNHVFIAGLAIQVASMA\n",
      "LAKLIEVYGHRFSLLPSPMAYSFIFICSDIVSLVVQAVGGGLCG\n",
      "FNLAITVAVLTIFTRCCYRLAELVVGWDGYLITHEWYFIILDALMMA\n",
      "ISQTEVDYLYREKFHFLRLEPKRWVFHYFNLAITVAVLTIFTRCCYR\n"
     ]
    },
    {
     "data": {
      "text/html": [
       "<div>\n",
       "<style scoped>\n",
       "    .dataframe tbody tr th:only-of-type {\n",
       "        vertical-align: middle;\n",
       "    }\n",
       "\n",
       "    .dataframe tbody tr th {\n",
       "        vertical-align: top;\n",
       "    }\n",
       "\n",
       "    .dataframe thead th {\n",
       "        text-align: right;\n",
       "    }\n",
       "</style>\n",
       "<table border=\"1\" class=\"dataframe\">\n",
       "  <thead>\n",
       "    <tr style=\"text-align: right;\">\n",
       "      <th></th>\n",
       "      <th>uni_id</th>\n",
       "      <th>region_seq</th>\n",
       "      <th>left_bound</th>\n",
       "      <th>right_bound</th>\n",
       "      <th>label</th>\n",
       "      <th>orf</th>\n",
       "      <th>fldpnn_label</th>\n",
       "    </tr>\n",
       "  </thead>\n",
       "  <tbody>\n",
       "    <tr>\n",
       "      <th>0</th>\n",
       "      <td>Q04007</td>\n",
       "      <td>FYAPSILSRSGSSTDVLSSGIDSMAKNSKETRGRFRSLSLMDPALQ...</td>\n",
       "      <td>503</td>\n",
       "      <td>552</td>\n",
       "      <td>disordered</td>\n",
       "      <td>YDR186C</td>\n",
       "      <td>helix</td>\n",
       "    </tr>\n",
       "    <tr>\n",
       "      <th>1</th>\n",
       "      <td>P22516</td>\n",
       "      <td>PIAEVVTLPYQYLLSESTRSSLQINLENSIVIIDEAHNLIETINSI...</td>\n",
       "      <td>359</td>\n",
       "      <td>452</td>\n",
       "      <td>helix</td>\n",
       "      <td>YPL008W</td>\n",
       "      <td>helix</td>\n",
       "    </tr>\n",
       "    <tr>\n",
       "      <th>2</th>\n",
       "      <td>Q12218</td>\n",
       "      <td>APSSSEVVSSSVASSSSEVASSSVAPSSSEVVSSSVASSSSEVASS...</td>\n",
       "      <td>164</td>\n",
       "      <td>228</td>\n",
       "      <td>disordered</td>\n",
       "      <td>YOR009W</td>\n",
       "      <td>disordered</td>\n",
       "    </tr>\n",
       "    <tr>\n",
       "      <th>3</th>\n",
       "      <td>P38196</td>\n",
       "      <td>TIPTEDYEEITKESEMGDATKITSKIDANVIEKKDTDSENNITIAQ...</td>\n",
       "      <td>18</td>\n",
       "      <td>94</td>\n",
       "      <td>disordered</td>\n",
       "      <td>YBL042C</td>\n",
       "      <td>None</td>\n",
       "    </tr>\n",
       "    <tr>\n",
       "      <th>4</th>\n",
       "      <td>Q12186</td>\n",
       "      <td>IQGIVCKICGQTGHFSRDCNSSSQRMSRFDRNATVNNSAPIQSNDV...</td>\n",
       "      <td>293</td>\n",
       "      <td>369</td>\n",
       "      <td>disordered</td>\n",
       "      <td>YLR116W</td>\n",
       "      <td>helix</td>\n",
       "    </tr>\n",
       "  </tbody>\n",
       "</table>\n",
       "</div>"
      ],
      "text/plain": [
       "   uni_id                                         region_seq  left_bound  \\\n",
       "0  Q04007  FYAPSILSRSGSSTDVLSSGIDSMAKNSKETRGRFRSLSLMDPALQ...         503   \n",
       "1  P22516  PIAEVVTLPYQYLLSESTRSSLQINLENSIVIIDEAHNLIETINSI...         359   \n",
       "2  Q12218  APSSSEVVSSSVASSSSEVASSSVAPSSSEVVSSSVASSSSEVASS...         164   \n",
       "3  P38196  TIPTEDYEEITKESEMGDATKITSKIDANVIEKKDTDSENNITIAQ...          18   \n",
       "4  Q12186  IQGIVCKICGQTGHFSRDCNSSSQRMSRFDRNATVNNSAPIQSNDV...         293   \n",
       "\n",
       "   right_bound       label      orf fldpnn_label  \n",
       "0          552  disordered  YDR186C        helix  \n",
       "1          452       helix  YPL008W        helix  \n",
       "2          228  disordered  YOR009W   disordered  \n",
       "3           94  disordered  YBL042C         None  \n",
       "4          369  disordered  YLR116W        helix  "
      ]
     },
     "execution_count": 7,
     "metadata": {},
     "output_type": "execute_result"
    }
   ],
   "source": [
    "fldpnn_random = pd.read_csv('../../data/af_regions/random_af_regions_low_thresh.csv')\n",
    "fldpnn_random['orf'] = fldpnn_random.apply(lambda row: append_orf(row), axis=1)\n",
    "fldpnn_random.rename(columns={'seq': 'region_seq'}, inplace=True)\n",
    "fldpnn_random['fldpnn_label'] = fldpnn_random.apply(lambda row: append_fldpnn_label(row), axis=1)\n",
    "fldpnn_random.head(5)"
   ]
  },
  {
   "cell_type": "code",
   "execution_count": 9,
   "metadata": {},
   "outputs": [],
   "source": [
    "fldpnn_random.to_csv('../../data/af_regions/random_af_regions_low_thresh_fldpnnlabel.csv')"
   ]
  },
  {
   "cell_type": "code",
   "execution_count": 6,
   "metadata": {},
   "outputs": [],
   "source": [
    "fldpnn_all = pd.read_csv('../../data/af_regions/sc_af_regions_all.csv')\n",
    "fldpnn_all['orf'] = fldpnn_all.apply(lambda row: append_orf(row), axis=1)\n",
    "fldpnn_all.rename(columns={'start': 'left_bound', 'end':'right_bound'}, inplace=True)\n",
    "fldpnn_all['fldpnn_label'] = fldpnn_all.apply(lambda row: append_fldpnn_label(row), axis=1)\n",
    "fldpnn_all.head(5)"
   ]
  },
  {
   "cell_type": "code",
   "execution_count": 13,
   "metadata": {},
   "outputs": [],
   "source": [
    "fldpnn_all.to_csv('../../data/af_regions/sc_af_regions_all_fldpnn.csv')"
   ]
  },
  {
   "attachments": {},
   "cell_type": "markdown",
   "metadata": {},
   "source": [
    "### Building confusion matrices"
   ]
  },
  {
   "attachments": {},
   "cell_type": "markdown",
   "metadata": {},
   "source": [
    "Loading the original confusion matrix"
   ]
  },
  {
   "cell_type": "code",
   "execution_count": 54,
   "metadata": {},
   "outputs": [],
   "source": [
    "cnf_df = pd.read_csv('../../misc/cp_cnf_matrices_posttrim.csv')"
   ]
  },
  {
   "cell_type": "code",
   "execution_count": 55,
   "metadata": {},
   "outputs": [],
   "source": [
    "fldpnn_all = pd.read_csv('../../data/af_regions/sc_af_regions_all_fldpnn.csv')\n",
    "fldpnn_rd = pd.read_csv('../../data/af_regions/random_af_regions_low_thresh_fldpnnlabel.csv')\n",
    "fldpnn_hc = pd.read_csv('../../data/charged_regions/cr_trimmed_filtered_aflabel_fldpnnlabel.csv')\n",
    "df_fldpnn = [fldpnn_all, fldpnn_rd, fldpnn_hc]"
   ]
  },
  {
   "cell_type": "code",
   "execution_count": 56,
   "metadata": {},
   "outputs": [],
   "source": [
    "cnf_fldpnn_all = np.array([[0, 0], [0, 0]])\n",
    "cnf_fldpnn_rd = np.array([[0, 0], [0, 0]])\n",
    "cnf_fldpnn_hc = np.array([[0, 0], [0, 0]])\n",
    "cnf_fldpnn = [cnf_fldpnn_all, cnf_fldpnn_rd, cnf_fldpnn_hc]"
   ]
  },
  {
   "cell_type": "code",
   "execution_count": 57,
   "metadata": {},
   "outputs": [],
   "source": [
    "for i in range(3):\n",
    "    df = df_fldpnn[i]\n",
    "    cnf = cnf_fldpnn[i]\n",
    "    cnf[0, 0] = len(df[(df.label == 'disordered') & (df.fldpnn_label == 'disordered')])\n",
    "    cnf[0, 1] = len(df[(df.label == 'disordered') & (df.fldpnn_label == 'helix')])\n",
    "    cnf[1, 0] = len(df[(df.label == 'helix') & (df.fldpnn_label == 'disordered')])\n",
    "    cnf[1, 1] = len(df[(df.label == 'helix') & (df.fldpnn_label == 'helix')])"
   ]
  },
  {
   "cell_type": "code",
   "execution_count": 58,
   "metadata": {},
   "outputs": [],
   "source": [
    "sample_size = []\n",
    "for df in df_uv:\n",
    "    sample_size.append(len(df))"
   ]
  },
  {
   "cell_type": "code",
   "execution_count": 59,
   "metadata": {},
   "outputs": [
    {
     "name": "stderr",
     "output_type": "stream",
     "text": [
      "/var/folders/dq/785ln7hn5m1_bmycnj08bnmh0000gn/T/ipykernel_91734/2370057698.py:10: FutureWarning: The frame.append method is deprecated and will be removed from pandas in a future version. Use pandas.concat instead.\n",
      "  cnf_df_new = cnf_df_new.append(rv, ignore_index=True)\n",
      "/var/folders/dq/785ln7hn5m1_bmycnj08bnmh0000gn/T/ipykernel_91734/2370057698.py:10: FutureWarning: The frame.append method is deprecated and will be removed from pandas in a future version. Use pandas.concat instead.\n",
      "  cnf_df_new = cnf_df_new.append(rv, ignore_index=True)\n",
      "/var/folders/dq/785ln7hn5m1_bmycnj08bnmh0000gn/T/ipykernel_91734/2370057698.py:10: FutureWarning: The frame.append method is deprecated and will be removed from pandas in a future version. Use pandas.concat instead.\n",
      "  cnf_df_new = cnf_df_new.append(rv, ignore_index=True)\n"
     ]
    }
   ],
   "source": [
    "cnf_df_new = pd.DataFrame(columns={'TN', 'FP', 'FN', 'TP', 'n'})\n",
    "i = 0\n",
    "for mat in cnf_fldpnn:\n",
    "    rv = {}\n",
    "    rv['TN'] = mat[0][0]\n",
    "    rv['FP'] = mat[0][1]\n",
    "    rv['FN'] = mat[1][0]\n",
    "    rv['TP'] = mat[1][1]\n",
    "    rv['n'] = sample_size[i]\n",
    "    cnf_df_new = cnf_df_new.append(rv, ignore_index=True)\n",
    "    i += 1\n",
    "    if i == 3:\n",
    "        i = 0"
   ]
  },
  {
   "cell_type": "code",
   "execution_count": 65,
   "metadata": {},
   "outputs": [],
   "source": [
    "cnf_df_final = pd.concat([cnf_df, cnf_df_new])"
   ]
  },
  {
   "cell_type": "code",
   "execution_count": 66,
   "metadata": {},
   "outputs": [],
   "source": [
    "cnf_matrices = []\n",
    "sample_size = []\n",
    "for index, row in cnf_df_final.iterrows():\n",
    "    mat = np.array([[row['TN'], row['FP']], [row['FN'], row['TP']]])\n",
    "    cnf_matrices.append(mat)\n",
    "    if index < 3:\n",
    "        sample_size.append(row['n'])"
   ]
  },
  {
   "cell_type": "code",
   "execution_count": 68,
   "metadata": {},
   "outputs": [],
   "source": [
    "def get_cnf_freq(cnf_mat):\n",
    "    cnf_freq = cnf_mat / cnf_mat.sum(axis=1)[:, np.newaxis]\n",
    "    return cnf_freq"
   ]
  },
  {
   "cell_type": "code",
   "execution_count": 69,
   "metadata": {},
   "outputs": [],
   "source": [
    "titles = ['Purely helical\\nand disordered\\nregions',\n",
    "          'Randomly\\ndrawn\\nregions',\n",
    "          'Highly\\ncharged\\nregions']"
   ]
  },
  {
   "cell_type": "code",
   "execution_count": 81,
   "metadata": {},
   "outputs": [
    {
     "name": "stderr",
     "output_type": "stream",
     "text": [
      "/var/folders/dq/785ln7hn5m1_bmycnj08bnmh0000gn/T/ipykernel_91734/2948773154.py:2: RuntimeWarning: invalid value encountered in true_divide\n",
      "  cnf_freq = cnf_mat / cnf_mat.sum(axis=1)[:, np.newaxis]\n"
     ]
    },
    {
     "data": {
      "image/png": "[encoded data removed]",
      "text/plain": [
       "<Figure size 288x360 with 10 Axes>"
      ]
     },
     "metadata": {
      "needs_background": "light"
     },
     "output_type": "display_data"
    }
   ],
   "source": [
    "fig, axes = plt.subplots(3, 3, figsize=(4, 5), constrained_layout=False)\n",
    "cbar_ax = fig.add_axes([0.95, .3, .03, .45])\n",
    "\n",
    "for i, ax in enumerate(axes.flat):\n",
    "    g = sns.heatmap(pd.DataFrame(get_cnf_freq(cnf_matrices[i])), ax=ax,\n",
    "                    annot=True, fmt=\".2f\",\n",
    "                    xticklabels=['', ''], yticklabels=['', ''],\n",
    "                    cmap=\"Greys\", cbar= (i == 0),\n",
    "                    vmin=0, vmax=1,\n",
    "                    cbar_ax=None if i else cbar_ax)\n",
    "    g.tick_params(left=False, bottom=False)\n",
    "    if i < 3:\n",
    "        g.set_title(titles[i], fontsize=12, pad=5)\n",
    "    #ax.title.set_position([.5, 0.8])\n",
    "    if i == 0:\n",
    "        ax.set_ylabel('LR model')\n",
    "        ax.yaxis.labelpad = 5\n",
    "    elif i == 3:\n",
    "        ax.set_ylabel('Uversky')\n",
    "        ax.yaxis.labelpad = 5\n",
    "    elif i == 6:\n",
    "        ax.set_ylabel('flDPnn')\n",
    "        ax.yaxis.labelpad = 5\n",
    "    bottom, top = ax.get_ylim()\n",
    "    ax.set_aspect('equal', adjustable=\"datalim\")\n",
    "    #ax.set_ylim(bottom + 0.5, top - 0.5)\n",
    "\n",
    "#plt.tight_layout()\n",
    "plt.subplots_adjust(wspace=0.2, hspace=0.01)\n",
    "#plt.savefig('./plots/Figure4D.png', dpi=300, bbox_inches='tight')"
   ]
  },
  {
   "attachments": {},
   "cell_type": "markdown",
   "metadata": {},
   "source": [
    "### Overall accuracy score"
   ]
  },
  {
   "cell_type": "code",
   "execution_count": 71,
   "metadata": {},
   "outputs": [],
   "source": [
    "l_acc = []\n",
    "for i in range(9):\n",
    "    cnf = cnf_matrices[i]\n",
    "    accuracy = (cnf[0, 0] + cnf[1, 1]) / np.sum(cnf)\n",
    "    l_acc.append(accuracy)\n",
    "sc_acc = np.mean(l_acc[:3])"
   ]
  },
  {
   "cell_type": "code",
   "execution_count": 72,
   "metadata": {},
   "outputs": [
    {
     "data": {
      "text/plain": [
       "[0.9544642857142858,\n",
       " 0.9104258443465492,\n",
       " 0.920704845814978,\n",
       " 0.7642857142857142,\n",
       " 0.7195301027900147,\n",
       " 0.5212922173274597,\n",
       " 0.7523900573613767,\n",
       " 0.6647546207775653,\n",
       " 0.7364975450081833]"
      ]
     },
     "execution_count": 72,
     "metadata": {},
     "output_type": "execute_result"
    }
   ],
   "source": [
    "l_acc"
   ]
  },
  {
   "cell_type": "code",
   "execution_count": 73,
   "metadata": {},
   "outputs": [],
   "source": [
    "ticks = ['LR model,\\nall regions',\n",
    "         'LR model,\\nrandomly drawn regions',\n",
    "         'LR model,\\nhighly charged regions',\n",
    "         'Uversky plot,\\nall regions',\n",
    "         'Uversky plot,\\nrandomly drawn regions',\n",
    "         'Uversky plot,\\nhighly charged regions',\n",
    "         'flDPnn,\\nall regions',\n",
    "         'flDPnn,\\nrandomly drawn regions',\n",
    "         'flDPnn,\\nhighly charged regions']"
   ]
  },
  {
   "cell_type": "code",
   "execution_count": 74,
   "metadata": {},
   "outputs": [],
   "source": [
    "df_cnf = pd.DataFrame(columns=['model', 'dataset', 'l_acc'])"
   ]
  },
  {
   "cell_type": "code",
   "execution_count": 75,
   "metadata": {},
   "outputs": [],
   "source": [
    "datasets = ['All regions', 'Random', 'Highly\\ncharged']"
   ]
  },
  {
   "cell_type": "code",
   "execution_count": 76,
   "metadata": {},
   "outputs": [
    {
     "name": "stderr",
     "output_type": "stream",
     "text": [
      "/var/folders/dq/785ln7hn5m1_bmycnj08bnmh0000gn/T/ipykernel_91734/949739124.py:2: FutureWarning: The frame.append method is deprecated and will be removed from pandas in a future version. Use pandas.concat instead.\n",
      "  df_cnf = df_cnf.append({'model': 'LR', 'dataset':datasets[i], 'l_acc': l_acc[i]},\n",
      "/var/folders/dq/785ln7hn5m1_bmycnj08bnmh0000gn/T/ipykernel_91734/949739124.py:2: FutureWarning: The frame.append method is deprecated and will be removed from pandas in a future version. Use pandas.concat instead.\n",
      "  df_cnf = df_cnf.append({'model': 'LR', 'dataset':datasets[i], 'l_acc': l_acc[i]},\n",
      "/var/folders/dq/785ln7hn5m1_bmycnj08bnmh0000gn/T/ipykernel_91734/949739124.py:2: FutureWarning: The frame.append method is deprecated and will be removed from pandas in a future version. Use pandas.concat instead.\n",
      "  df_cnf = df_cnf.append({'model': 'LR', 'dataset':datasets[i], 'l_acc': l_acc[i]},\n"
     ]
    }
   ],
   "source": [
    "for i in range(3):\n",
    "    df_cnf = df_cnf.append({'model': 'LR', 'dataset':datasets[i], 'l_acc': l_acc[i]},\n",
    "                           ignore_index=True)"
   ]
  },
  {
   "cell_type": "code",
   "execution_count": 77,
   "metadata": {},
   "outputs": [
    {
     "name": "stderr",
     "output_type": "stream",
     "text": [
      "/var/folders/dq/785ln7hn5m1_bmycnj08bnmh0000gn/T/ipykernel_91734/2541002017.py:2: FutureWarning: The frame.append method is deprecated and will be removed from pandas in a future version. Use pandas.concat instead.\n",
      "  df_cnf = df_cnf.append({'model': 'Uversky', 'dataset':datasets[i], 'l_acc': l_acc[i+3]},\n",
      "/var/folders/dq/785ln7hn5m1_bmycnj08bnmh0000gn/T/ipykernel_91734/2541002017.py:2: FutureWarning: The frame.append method is deprecated and will be removed from pandas in a future version. Use pandas.concat instead.\n",
      "  df_cnf = df_cnf.append({'model': 'Uversky', 'dataset':datasets[i], 'l_acc': l_acc[i+3]},\n",
      "/var/folders/dq/785ln7hn5m1_bmycnj08bnmh0000gn/T/ipykernel_91734/2541002017.py:2: FutureWarning: The frame.append method is deprecated and will be removed from pandas in a future version. Use pandas.concat instead.\n",
      "  df_cnf = df_cnf.append({'model': 'Uversky', 'dataset':datasets[i], 'l_acc': l_acc[i+3]},\n"
     ]
    }
   ],
   "source": [
    "for i in range(3):\n",
    "    df_cnf = df_cnf.append({'model': 'Uversky', 'dataset':datasets[i], 'l_acc': l_acc[i+3]},\n",
    "                           ignore_index=True)"
   ]
  },
  {
   "cell_type": "code",
   "execution_count": 78,
   "metadata": {},
   "outputs": [
    {
     "name": "stderr",
     "output_type": "stream",
     "text": [
      "/var/folders/dq/785ln7hn5m1_bmycnj08bnmh0000gn/T/ipykernel_91734/3041629165.py:2: FutureWarning: The frame.append method is deprecated and will be removed from pandas in a future version. Use pandas.concat instead.\n",
      "  df_cnf = df_cnf.append({'model': 'flDPnn', 'dataset':datasets[i], 'l_acc': l_acc[i+6]},\n",
      "/var/folders/dq/785ln7hn5m1_bmycnj08bnmh0000gn/T/ipykernel_91734/3041629165.py:2: FutureWarning: The frame.append method is deprecated and will be removed from pandas in a future version. Use pandas.concat instead.\n",
      "  df_cnf = df_cnf.append({'model': 'flDPnn', 'dataset':datasets[i], 'l_acc': l_acc[i+6]},\n",
      "/var/folders/dq/785ln7hn5m1_bmycnj08bnmh0000gn/T/ipykernel_91734/3041629165.py:2: FutureWarning: The frame.append method is deprecated and will be removed from pandas in a future version. Use pandas.concat instead.\n",
      "  df_cnf = df_cnf.append({'model': 'flDPnn', 'dataset':datasets[i], 'l_acc': l_acc[i+6]},\n"
     ]
    }
   ],
   "source": [
    "for i in range(3):\n",
    "    df_cnf = df_cnf.append({'model': 'flDPnn', 'dataset':datasets[i], 'l_acc': l_acc[i+6]},\n",
    "                           ignore_index=True)"
   ]
  },
  {
   "cell_type": "code",
   "execution_count": 80,
   "metadata": {},
   "outputs": [
    {
     "data": {
      "image/png": "[encoded data removed]",
      "text/plain": [
       "<Figure size 201.6x201.6 with 1 Axes>"
      ]
     },
     "metadata": {
      "needs_background": "light"
     },
     "output_type": "display_data"
    }
   ],
   "source": [
    "fig, ax = plt.subplots(figsize=(2.8,2.8))\n",
    "\n",
    "sns.barplot(data=df_cnf, y='dataset', x='l_acc', hue='model',\n",
    "            palette=['black', 'darkgrey', 'red'], edgecolor='white')\n",
    "ax.set_xlabel('Accuracy of classification')\n",
    "ax.set_ylabel('')\n",
    "ax.set_xlim(0, 1)\n",
    "ax.set_xticks(np.arange(0, 1.05, 0.2))\n",
    "ax.set_xticklabels([0, 0.2, 0.4, 0.6, 0.8, 1])\n",
    "ax.set_xticks([0.1, 0.3, 0.5, 0.7, 0.9], minor=True)\n",
    "plt.legend(title=None, ncol = 2, frameon=False, columnspacing=1.5,\n",
    "           bbox_to_anchor=(1.025, 1.2))\n",
    "#plt.savefig('./plots/Figure4E.png', dpi=300, bbox_inches='tight')\n",
    "plt.show()"
   ]
  }
 ],
 "metadata": {
  "kernelspec": {
   "display_name": "env_hcr",
   "language": "python",
   "name": "python3"
  },
  "language_info": {
   "codemirror_mode": {
    "name": "ipython",
    "version": 3
   },
   "file_extension": ".py",
   "mimetype": "text/x-python",
   "name": "python",
   "nbconvert_exporter": "python",
   "pygments_lexer": "ipython3",
   "version": "3.9.12"
  },
  "orig_nbformat": 4
 },
 "nbformat": 4,
 "nbformat_minor": 2
}
