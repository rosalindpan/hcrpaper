{
 "cells": [
  {
   "cell_type": "code",
   "execution_count": 1,
   "metadata": {},
   "outputs": [],
   "source": [
    "## Processing\n",
    "import pandas as pd\n",
    "from Bio import SeqIO\n",
    "\n",
    "## Visualization\n",
    "import matplotlib.pyplot as plt\n",
    "import seaborn as sns\n",
    "plt.rcParams.update({'font.size': 12})\n",
    "plt.rcParams['font.family'] = 'sans-serif'\n",
    "plt.rcParams['font.sans-serif'] = \"Arial\"\n",
    "\n",
    "## Colors\n",
    "cscheme = {'pos':'#0177BB', 'neg':'#CB3627', 'dis':'#828282', 'helix':'#009988', 'sheet':'#EE7733', 'cr':'#AA4499',\n",
    "          'null':\"black\"}"
   ]
  },
  {
   "attachments": {},
   "cell_type": "markdown",
   "metadata": {},
   "source": [
    "### Add a direct comparison of the prediction of this study and that obtained using existing tools"
   ]
  },
  {
   "attachments": {},
   "cell_type": "markdown",
   "metadata": {},
   "source": [
    "### Figure S5a and S5b difficult to see. Add Notches."
   ]
  },
  {
   "attachments": {},
   "cell_type": "markdown",
   "metadata": {},
   "source": [
    "See `/figures/FigureS5.ipynb`."
   ]
  },
  {
   "attachments": {},
   "cell_type": "markdown",
   "metadata": {},
   "source": [
    "### In their logistic regression model, the authors assign disorder to either PLDDT scores > 70 and coil prediction by DSSP or to a PLDDT<50. What is the probability of observing each case?"
   ]
  },
  {
   "cell_type": "code",
   "execution_count": null,
   "metadata": {},
   "outputs": [],
   "source": []
  },
  {
   "attachments": {},
   "cell_type": "markdown",
   "metadata": {},
   "source": [
    "### What is the prevalence of highly-charged sequences in other proteomes (such as the human one)?"
   ]
  },
  {
   "cell_type": "code",
   "execution_count": 2,
   "metadata": {},
   "outputs": [],
   "source": [
    "records = {}\n",
    "with open('../../data/ref_proteomes/Homo_sapiens.fasta') as handle:\n",
    "    for record in SeqIO.parse(handle, 'fasta'):\n",
    "        records[record.id] = str(record.seq)"
   ]
  },
  {
   "cell_type": "code",
   "execution_count": 3,
   "metadata": {},
   "outputs": [
    {
     "data": {
      "text/plain": [
       "114963"
      ]
     },
     "execution_count": 3,
     "metadata": {},
     "output_type": "execute_result"
    }
   ],
   "source": [
    "len(records)"
   ]
  },
  {
   "cell_type": "code",
   "execution_count": 4,
   "metadata": {},
   "outputs": [
    {
     "data": {
      "text/html": [
       "<div>\n",
       "<style scoped>\n",
       "    .dataframe tbody tr th:only-of-type {\n",
       "        vertical-align: middle;\n",
       "    }\n",
       "\n",
       "    .dataframe tbody tr th {\n",
       "        vertical-align: top;\n",
       "    }\n",
       "\n",
       "    .dataframe thead th {\n",
       "        text-align: right;\n",
       "    }\n",
       "</style>\n",
       "<table border=\"1\" class=\"dataframe\">\n",
       "  <thead>\n",
       "    <tr style=\"text-align: right;\">\n",
       "      <th></th>\n",
       "      <th>orf</th>\n",
       "      <th>gene</th>\n",
       "      <th>seq.len</th>\n",
       "      <th>left.bound</th>\n",
       "      <th>right.bound</th>\n",
       "      <th>region.seq</th>\n",
       "      <th>region.len</th>\n",
       "      <th>charge.asymmetry</th>\n",
       "      <th>frac.charge</th>\n",
       "      <th>kappa1</th>\n",
       "      <th>kappa2</th>\n",
       "    </tr>\n",
       "  </thead>\n",
       "  <tbody>\n",
       "    <tr>\n",
       "      <th>0</th>\n",
       "      <td>NP_000029.2</td>\n",
       "      <td>adenomatous</td>\n",
       "      <td>2843</td>\n",
       "      <td>1532</td>\n",
       "      <td>1580</td>\n",
       "      <td>NGNETESEQPKESNENQEKEAEKTIDSEKDLLDDSDDDDIEILEECIIS</td>\n",
       "      <td>49</td>\n",
       "      <td>0.217687</td>\n",
       "      <td>0.489796</td>\n",
       "      <td>0.079031</td>\n",
       "      <td>0.279810</td>\n",
       "    </tr>\n",
       "    <tr>\n",
       "      <th>1</th>\n",
       "      <td>NP_000030.1</td>\n",
       "      <td>apolipoprotein</td>\n",
       "      <td>267</td>\n",
       "      <td>91</td>\n",
       "      <td>152</td>\n",
       "      <td>TQEFWDNLEKETEGLRQEMSKDLEEVKAKVQPYLDDFQKKWQEEME...</td>\n",
       "      <td>62</td>\n",
       "      <td>0.029271</td>\n",
       "      <td>0.435484</td>\n",
       "      <td>0.051507</td>\n",
       "      <td>0.138749</td>\n",
       "    </tr>\n",
       "    <tr>\n",
       "      <th>2</th>\n",
       "      <td>NP_000032.1</td>\n",
       "      <td>apolipoprotein</td>\n",
       "      <td>317</td>\n",
       "      <td>224</td>\n",
       "      <td>267</td>\n",
       "      <td>AQAWGERLRARMEEMGSRTRDRLDEVKEQVAEVRAKLEEQAQQI</td>\n",
       "      <td>44</td>\n",
       "      <td>0.001196</td>\n",
       "      <td>0.431818</td>\n",
       "      <td>0.042555</td>\n",
       "      <td>0.114889</td>\n",
       "    </tr>\n",
       "    <tr>\n",
       "      <th>3</th>\n",
       "      <td>NP_000042.3</td>\n",
       "      <td>serine-protein</td>\n",
       "      <td>3056</td>\n",
       "      <td>9</td>\n",
       "      <td>53</td>\n",
       "      <td>ICCRQLEHDRATERKKEVEKFKRLIRDPETIKHLDRHSDSKQGKY</td>\n",
       "      <td>45</td>\n",
       "      <td>0.043556</td>\n",
       "      <td>0.488889</td>\n",
       "      <td>0.029856</td>\n",
       "      <td>0.069648</td>\n",
       "    </tr>\n",
       "    <tr>\n",
       "      <th>4</th>\n",
       "      <td>NP_000055.2</td>\n",
       "      <td>complement</td>\n",
       "      <td>1663</td>\n",
       "      <td>1488</td>\n",
       "      <td>1541</td>\n",
       "      <td>CTRFYHPEKEDGKLNKLCRDELCRCAEENCFIQKSDDKVTLEERLD...</td>\n",
       "      <td>54</td>\n",
       "      <td>0.006667</td>\n",
       "      <td>0.444444</td>\n",
       "      <td>0.034862</td>\n",
       "      <td>0.089707</td>\n",
       "    </tr>\n",
       "    <tr>\n",
       "      <th>5</th>\n",
       "      <td>NP_000059.3</td>\n",
       "      <td>voltage-dependent</td>\n",
       "      <td>2266</td>\n",
       "      <td>938</td>\n",
       "      <td>1040</td>\n",
       "      <td>RQGGSRESRSGSPRTGADGEHRRHRAHRRPGEEGPEDKAERRARHR...</td>\n",
       "      <td>103</td>\n",
       "      <td>0.049225</td>\n",
       "      <td>0.485437</td>\n",
       "      <td>0.144546</td>\n",
       "      <td>0.322122</td>\n",
       "    </tr>\n",
       "    <tr>\n",
       "      <th>6</th>\n",
       "      <td>NP_000060.2</td>\n",
       "      <td>voltage-dependent</td>\n",
       "      <td>1873</td>\n",
       "      <td>669</td>\n",
       "      <td>715</td>\n",
       "      <td>LTSAQKAKAEEKKRRKMSKGLPDKSEEEKSTMAKKLEQKPKGEGIPT</td>\n",
       "      <td>47</td>\n",
       "      <td>0.034816</td>\n",
       "      <td>0.468085</td>\n",
       "      <td>0.078154</td>\n",
       "      <td>0.201243</td>\n",
       "    </tr>\n",
       "    <tr>\n",
       "      <th>7</th>\n",
       "      <td>NP_000078.3</td>\n",
       "      <td>cGMP-gated</td>\n",
       "      <td>686</td>\n",
       "      <td>88</td>\n",
       "      <td>155</td>\n",
       "      <td>NNSSNKDQEPEEKKKKKKEKKSKSDDKNENKNDPEKKKKKKDKEKK...</td>\n",
       "      <td>68</td>\n",
       "      <td>0.024310</td>\n",
       "      <td>0.720588</td>\n",
       "      <td>0.089758</td>\n",
       "      <td>0.130267</td>\n",
       "    </tr>\n",
       "    <tr>\n",
       "      <th>8</th>\n",
       "      <td>NP_000086.2</td>\n",
       "      <td>cartilage</td>\n",
       "      <td>757</td>\n",
       "      <td>329</td>\n",
       "      <td>385</td>\n",
       "      <td>LVRNPDQRNTDEDKWGDACDNCRSQKNDDQKDTDQDGRGDACDDDI...</td>\n",
       "      <td>57</td>\n",
       "      <td>0.052632</td>\n",
       "      <td>0.473684</td>\n",
       "      <td>0.067017</td>\n",
       "      <td>0.172349</td>\n",
       "    </tr>\n",
       "    <tr>\n",
       "      <th>9</th>\n",
       "      <td>NP_000094.2</td>\n",
       "      <td>aromatase</td>\n",
       "      <td>503</td>\n",
       "      <td>235</td>\n",
       "      <td>280</td>\n",
       "      <td>KISWLYKKYEKSVKDLKDAIEVLIAEKRRRISTEEKLEECMDFATE</td>\n",
       "      <td>46</td>\n",
       "      <td>0.000000</td>\n",
       "      <td>0.478261</td>\n",
       "      <td>0.076768</td>\n",
       "      <td>0.178206</td>\n",
       "    </tr>\n",
       "  </tbody>\n",
       "</table>\n",
       "</div>"
      ],
      "text/plain": [
       "           orf               gene  seq.len  left.bound  right.bound  \\\n",
       "0  NP_000029.2        adenomatous     2843        1532         1580   \n",
       "1  NP_000030.1     apolipoprotein      267          91          152   \n",
       "2  NP_000032.1     apolipoprotein      317         224          267   \n",
       "3  NP_000042.3     serine-protein     3056           9           53   \n",
       "4  NP_000055.2         complement     1663        1488         1541   \n",
       "5  NP_000059.3  voltage-dependent     2266         938         1040   \n",
       "6  NP_000060.2  voltage-dependent     1873         669          715   \n",
       "7  NP_000078.3         cGMP-gated      686          88          155   \n",
       "8  NP_000086.2          cartilage      757         329          385   \n",
       "9  NP_000094.2          aromatase      503         235          280   \n",
       "\n",
       "                                          region.seq  region.len  \\\n",
       "0  NGNETESEQPKESNENQEKEAEKTIDSEKDLLDDSDDDDIEILEECIIS          49   \n",
       "1  TQEFWDNLEKETEGLRQEMSKDLEEVKAKVQPYLDDFQKKWQEEME...          62   \n",
       "2       AQAWGERLRARMEEMGSRTRDRLDEVKEQVAEVRAKLEEQAQQI          44   \n",
       "3      ICCRQLEHDRATERKKEVEKFKRLIRDPETIKHLDRHSDSKQGKY          45   \n",
       "4  CTRFYHPEKEDGKLNKLCRDELCRCAEENCFIQKSDDKVTLEERLD...          54   \n",
       "5  RQGGSRESRSGSPRTGADGEHRRHRAHRRPGEEGPEDKAERRARHR...         103   \n",
       "6    LTSAQKAKAEEKKRRKMSKGLPDKSEEEKSTMAKKLEQKPKGEGIPT          47   \n",
       "7  NNSSNKDQEPEEKKKKKKEKKSKSDDKNENKNDPEKKKKKKDKEKK...          68   \n",
       "8  LVRNPDQRNTDEDKWGDACDNCRSQKNDDQKDTDQDGRGDACDDDI...          57   \n",
       "9     KISWLYKKYEKSVKDLKDAIEVLIAEKRRRISTEEKLEECMDFATE          46   \n",
       "\n",
       "   charge.asymmetry  frac.charge    kappa1    kappa2  \n",
       "0          0.217687     0.489796  0.079031  0.279810  \n",
       "1          0.029271     0.435484  0.051507  0.138749  \n",
       "2          0.001196     0.431818  0.042555  0.114889  \n",
       "3          0.043556     0.488889  0.029856  0.069648  \n",
       "4          0.006667     0.444444  0.034862  0.089707  \n",
       "5          0.049225     0.485437  0.144546  0.322122  \n",
       "6          0.034816     0.468085  0.078154  0.201243  \n",
       "7          0.024310     0.720588  0.089758  0.130267  \n",
       "8          0.052632     0.473684  0.067017  0.172349  \n",
       "9          0.000000     0.478261  0.076768  0.178206  "
      ]
     },
     "execution_count": 4,
     "metadata": {},
     "output_type": "execute_result"
    }
   ],
   "source": [
    "cr_hs = pd.read_csv('../../data/charged_regions/cr_homo_sapiens.csv', comment='#')\n",
    "cr_hs.head(10)"
   ]
  },
  {
   "cell_type": "code",
   "execution_count": 5,
   "metadata": {},
   "outputs": [
    {
     "name": "stdout",
     "output_type": "stream",
     "text": [
      "We extracted 29013 highly charged regions from the Human proteome\n",
      "About 16.5% of protein-coding genes encode at least one highly charged region.\n"
     ]
    }
   ],
   "source": [
    "print('We extracted {} highly charged regions from the Human proteome'.format(len(cr_hs)))\n",
    "print('About {:.1f}% of protein-coding genes encode at least one highly charged region.'.format(cr_hs['orf'].nunique() / len(records) * 100))"
   ]
  },
  {
   "attachments": {},
   "cell_type": "markdown",
   "metadata": {},
   "source": [
    "### Fig 2A: why is there a sudden jump in highly-charged and Random distributions at low/high fractions?"
   ]
  },
  {
   "cell_type": "code",
   "execution_count": null,
   "metadata": {},
   "outputs": [],
   "source": []
  },
  {
   "attachments": {},
   "cell_type": "markdown",
   "metadata": {},
   "source": [
    "### Include an Uversky-like plot that κ vs FCR colored as helix/disordered as determined by AF"
   ]
  },
  {
   "cell_type": "code",
   "execution_count": 10,
   "metadata": {},
   "outputs": [],
   "source": [
    "df = pd.read_csv(\"../../data/charged_regions/cr_trimmed_filtered_aflabel.csv\")"
   ]
  },
  {
   "cell_type": "code",
   "execution_count": 12,
   "metadata": {},
   "outputs": [
    {
     "data": {
      "image/png": "[encoded data removed]",
      "text/plain": [
       "<Figure size 288x201.6 with 1 Axes>"
      ]
     },
     "metadata": {
      "needs_background": "light"
     },
     "output_type": "display_data"
    }
   ],
   "source": [
    "plt.figure(figsize=(4, 2.8))\n",
    "sns.scatterplot(x = \"kappa\", y = \"frac.charge\", hue=\"label\", data=df,\n",
    "                palette=[cscheme[\"dis\"], cscheme[\"helix\"]], s=15, edgecolors=None, linewidth=0, alpha=0.6)\n",
    "plt.xlabel(\"Degree of charge mixing, $\\kappa$\")\n",
    "plt.ylabel(\"Fractional charge\")\n",
    "plt.legend(title=\"Majority prediction (from AlphaFold)\",\n",
    "           bbox_to_anchor=(0.95, 1.3), ncol=2, frameon=False, columnspacing=1)\n",
    "#plt.savefig('./plots/FigureS2B-alt.png', dpi=300, bbox_inches='tight')\n",
    "plt.show()"
   ]
  }
 ],
 "metadata": {
  "kernelspec": {
   "display_name": "env_hcr",
   "language": "python",
   "name": "python3"
  },
  "language_info": {
   "codemirror_mode": {
    "name": "ipython",
    "version": 3
   },
   "file_extension": ".py",
   "mimetype": "text/x-python",
   "name": "python",
   "nbconvert_exporter": "python",
   "pygments_lexer": "ipython3",
   "version": "3.9.12"
  },
  "orig_nbformat": 4
 },
 "nbformat": 4,
 "nbformat_minor": 2
}
