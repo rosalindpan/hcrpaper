{
 "cells": [
  {
   "cell_type": "code",
   "execution_count": 1,
   "metadata": {},
   "outputs": [],
   "source": [
    "## Processing\n",
    "import numpy as np\n",
    "import pandas as pd\n",
    "from sklearn.neighbors import KernelDensity\n",
    "from Bio import SeqIO\n",
    "from os import path\n",
    "import mdtraj as md\n",
    "\n",
    "## Custom package\n",
    "import sys\n",
    "sys.path.insert(1, '../scripts')\n",
    "import parseaf as pa\n",
    "\n",
    "## Visualization\n",
    "import matplotlib.pyplot as plt\n",
    "import seaborn as sns\n",
    "plt.rcParams.update({'font.size': 12})\n",
    "plt.rcParams['font.family'] = 'sans-serif'\n",
    "plt.rcParams['font.sans-serif'] = \"Arial\"\n",
    "\n",
    "## Colors\n",
    "cscheme = {'pos':'#0177BB', 'neg':'#CB3627', 'dis':'#828282', 'helix':'#009988', 'sheet':'#EE7733', 'cr':'#AA4499',\n",
    "          'null':\"black\"}"
   ]
  },
  {
   "attachments": {},
   "cell_type": "markdown",
   "metadata": {},
   "source": [
    "### Add a direct comparison of the prediction of this study and that obtained using existing tools"
   ]
  },
  {
   "cell_type": "code",
   "execution_count": 3,
   "metadata": {},
   "outputs": [],
   "source": [
    "df_hc = pd.read_csv('../../data/charged_regions/cr_trimmed_filtered_aflabel.csv')"
   ]
  },
  {
   "cell_type": "code",
   "execution_count": 4,
   "metadata": {},
   "outputs": [
    {
     "data": {
      "text/html": [
       "<div>\n",
       "<style scoped>\n",
       "    .dataframe tbody tr th:only-of-type {\n",
       "        vertical-align: middle;\n",
       "    }\n",
       "\n",
       "    .dataframe tbody tr th {\n",
       "        vertical-align: top;\n",
       "    }\n",
       "\n",
       "    .dataframe thead th {\n",
       "        text-align: right;\n",
       "    }\n",
       "</style>\n",
       "<table border=\"1\" class=\"dataframe\">\n",
       "  <thead>\n",
       "    <tr style=\"text-align: right;\">\n",
       "      <th></th>\n",
       "      <th>orf</th>\n",
       "      <th>gene</th>\n",
       "      <th>seq.len</th>\n",
       "      <th>left.bound</th>\n",
       "      <th>right.bound</th>\n",
       "      <th>region.seq</th>\n",
       "      <th>region.len</th>\n",
       "      <th>charge.asymmetry</th>\n",
       "      <th>frac.charge</th>\n",
       "      <th>uni_id</th>\n",
       "      <th>orf_label</th>\n",
       "      <th>kappa</th>\n",
       "      <th>label</th>\n",
       "    </tr>\n",
       "  </thead>\n",
       "  <tbody>\n",
       "    <tr>\n",
       "      <th>0</th>\n",
       "      <td>YAL011W</td>\n",
       "      <td>SWC3</td>\n",
       "      <td>626</td>\n",
       "      <td>5</td>\n",
       "      <td>53</td>\n",
       "      <td>RTRSKESSIEQKPASRTRTRSRRGKRGRDDDDDDDDEESDDAYDEVGND</td>\n",
       "      <td>49</td>\n",
       "      <td>0.017593</td>\n",
       "      <td>0.591837</td>\n",
       "      <td>P31376</td>\n",
       "      <td>verified</td>\n",
       "      <td>0.539053</td>\n",
       "      <td>disordered</td>\n",
       "    </tr>\n",
       "    <tr>\n",
       "      <th>1</th>\n",
       "      <td>YAL011W</td>\n",
       "      <td>SWC3</td>\n",
       "      <td>626</td>\n",
       "      <td>169</td>\n",
       "      <td>261</td>\n",
       "      <td>RLFILKNDKIEQKWQDEQELKKKEKELKRKNDAEAKRLRMEERKRQ...</td>\n",
       "      <td>93</td>\n",
       "      <td>0.052936</td>\n",
       "      <td>0.559140</td>\n",
       "      <td>P31376</td>\n",
       "      <td>verified</td>\n",
       "      <td>0.098538</td>\n",
       "      <td>helix</td>\n",
       "    </tr>\n",
       "    <tr>\n",
       "      <th>2</th>\n",
       "      <td>YAL011W</td>\n",
       "      <td>SWC3</td>\n",
       "      <td>626</td>\n",
       "      <td>361</td>\n",
       "      <td>424</td>\n",
       "      <td>KTAATEPEPKKADDENAEKQQSKEAKTTAESTQVDVKKEEEDVKEK...</td>\n",
       "      <td>64</td>\n",
       "      <td>0.007812</td>\n",
       "      <td>0.500000</td>\n",
       "      <td>P31376</td>\n",
       "      <td>verified</td>\n",
       "      <td>0.089231</td>\n",
       "      <td>disordered</td>\n",
       "    </tr>\n",
       "    <tr>\n",
       "      <th>3</th>\n",
       "      <td>YAL013W</td>\n",
       "      <td>DEP1</td>\n",
       "      <td>406</td>\n",
       "      <td>84</td>\n",
       "      <td>159</td>\n",
       "      <td>ESLKRPHEDEKEAIDEAKKMKVPGENEDESKEEEKSQELEEAIDSK...</td>\n",
       "      <td>76</td>\n",
       "      <td>0.138444</td>\n",
       "      <td>0.592105</td>\n",
       "      <td>P31385</td>\n",
       "      <td>verified</td>\n",
       "      <td>0.219047</td>\n",
       "      <td>disordered</td>\n",
       "    </tr>\n",
       "    <tr>\n",
       "      <th>4</th>\n",
       "      <td>YAL019W</td>\n",
       "      <td>FUN30</td>\n",
       "      <td>1132</td>\n",
       "      <td>463</td>\n",
       "      <td>538</td>\n",
       "      <td>ERETKRIRNTTKPKVVEDEDDDVDLEAIDDELPQSEHEDDDYEEED...</td>\n",
       "      <td>76</td>\n",
       "      <td>0.269474</td>\n",
       "      <td>0.644737</td>\n",
       "      <td>P31380</td>\n",
       "      <td>verified</td>\n",
       "      <td>0.498598</td>\n",
       "      <td>disordered</td>\n",
       "    </tr>\n",
       "    <tr>\n",
       "      <th>5</th>\n",
       "      <td>YAL024C</td>\n",
       "      <td>LTE1</td>\n",
       "      <td>1436</td>\n",
       "      <td>701</td>\n",
       "      <td>746</td>\n",
       "      <td>REFTFEDTKSLDEKKSTIDGLEKNYDNKENQESEYESTKKLDNSLD</td>\n",
       "      <td>46</td>\n",
       "      <td>0.035573</td>\n",
       "      <td>0.478261</td>\n",
       "      <td>P07866</td>\n",
       "      <td>verified</td>\n",
       "      <td>0.099060</td>\n",
       "      <td>disordered</td>\n",
       "    </tr>\n",
       "    <tr>\n",
       "      <th>6</th>\n",
       "      <td>YAL031C</td>\n",
       "      <td>GIP4</td>\n",
       "      <td>761</td>\n",
       "      <td>404</td>\n",
       "      <td>455</td>\n",
       "      <td>DCWKYIEKNYKTFDETNDLRENLKEKLERDKALYLEVKNAKSKLKK...</td>\n",
       "      <td>52</td>\n",
       "      <td>0.019231</td>\n",
       "      <td>0.480769</td>\n",
       "      <td>P39732</td>\n",
       "      <td>verified</td>\n",
       "      <td>0.173941</td>\n",
       "      <td>helix</td>\n",
       "    </tr>\n",
       "    <tr>\n",
       "      <th>7</th>\n",
       "      <td>YAL032C</td>\n",
       "      <td>PRP45</td>\n",
       "      <td>380</td>\n",
       "      <td>205</td>\n",
       "      <td>248</td>\n",
       "      <td>EALENADKKARQEIRSKMELKRLAMEQEMLAKESKLKELSQRAR</td>\n",
       "      <td>44</td>\n",
       "      <td>0.009740</td>\n",
       "      <td>0.477273</td>\n",
       "      <td>P28004</td>\n",
       "      <td>verified</td>\n",
       "      <td>0.086210</td>\n",
       "      <td>helix</td>\n",
       "    </tr>\n",
       "    <tr>\n",
       "      <th>8</th>\n",
       "      <td>YAL034W-A</td>\n",
       "      <td>MTW1</td>\n",
       "      <td>290</td>\n",
       "      <td>110</td>\n",
       "      <td>152</td>\n",
       "      <td>DLVIVDENELKKSEEKLREKVNDVELAFKKNEMLLKRVTKVKR</td>\n",
       "      <td>43</td>\n",
       "      <td>0.004228</td>\n",
       "      <td>0.511628</td>\n",
       "      <td>P39731</td>\n",
       "      <td>verified</td>\n",
       "      <td>0.165498</td>\n",
       "      <td>helix</td>\n",
       "    </tr>\n",
       "    <tr>\n",
       "      <th>9</th>\n",
       "      <td>YAL035W</td>\n",
       "      <td>FUN12</td>\n",
       "      <td>1003</td>\n",
       "      <td>66</td>\n",
       "      <td>132</td>\n",
       "      <td>KQSKKKQEKKVIEEKKDGKPILKSKKEKEKEKKEKEKQKKKEQAAR...</td>\n",
       "      <td>67</td>\n",
       "      <td>0.081908</td>\n",
       "      <td>0.611940</td>\n",
       "      <td>P39730</td>\n",
       "      <td>verified</td>\n",
       "      <td>0.084370</td>\n",
       "      <td>helix</td>\n",
       "    </tr>\n",
       "  </tbody>\n",
       "</table>\n",
       "</div>"
      ],
      "text/plain": [
       "         orf   gene  seq.len  left.bound  right.bound  \\\n",
       "0    YAL011W   SWC3      626           5           53   \n",
       "1    YAL011W   SWC3      626         169          261   \n",
       "2    YAL011W   SWC3      626         361          424   \n",
       "3    YAL013W   DEP1      406          84          159   \n",
       "4    YAL019W  FUN30     1132         463          538   \n",
       "5    YAL024C   LTE1     1436         701          746   \n",
       "6    YAL031C   GIP4      761         404          455   \n",
       "7    YAL032C  PRP45      380         205          248   \n",
       "8  YAL034W-A   MTW1      290         110          152   \n",
       "9    YAL035W  FUN12     1003          66          132   \n",
       "\n",
       "                                          region.seq  region.len  \\\n",
       "0  RTRSKESSIEQKPASRTRTRSRRGKRGRDDDDDDDDEESDDAYDEVGND          49   \n",
       "1  RLFILKNDKIEQKWQDEQELKKKEKELKRKNDAEAKRLRMEERKRQ...          93   \n",
       "2  KTAATEPEPKKADDENAEKQQSKEAKTTAESTQVDVKKEEEDVKEK...          64   \n",
       "3  ESLKRPHEDEKEAIDEAKKMKVPGENEDESKEEEKSQELEEAIDSK...          76   \n",
       "4  ERETKRIRNTTKPKVVEDEDDDVDLEAIDDELPQSEHEDDDYEEED...          76   \n",
       "5     REFTFEDTKSLDEKKSTIDGLEKNYDNKENQESEYESTKKLDNSLD          46   \n",
       "6  DCWKYIEKNYKTFDETNDLRENLKEKLERDKALYLEVKNAKSKLKK...          52   \n",
       "7       EALENADKKARQEIRSKMELKRLAMEQEMLAKESKLKELSQRAR          44   \n",
       "8        DLVIVDENELKKSEEKLREKVNDVELAFKKNEMLLKRVTKVKR          43   \n",
       "9  KQSKKKQEKKVIEEKKDGKPILKSKKEKEKEKKEKEKQKKKEQAAR...          67   \n",
       "\n",
       "   charge.asymmetry  frac.charge  uni_id orf_label     kappa       label  \n",
       "0          0.017593     0.591837  P31376  verified  0.539053  disordered  \n",
       "1          0.052936     0.559140  P31376  verified  0.098538       helix  \n",
       "2          0.007812     0.500000  P31376  verified  0.089231  disordered  \n",
       "3          0.138444     0.592105  P31385  verified  0.219047  disordered  \n",
       "4          0.269474     0.644737  P31380  verified  0.498598  disordered  \n",
       "5          0.035573     0.478261  P07866  verified  0.099060  disordered  \n",
       "6          0.019231     0.480769  P39732  verified  0.173941       helix  \n",
       "7          0.009740     0.477273  P28004  verified  0.086210       helix  \n",
       "8          0.004228     0.511628  P39731  verified  0.165498       helix  \n",
       "9          0.081908     0.611940  P39730  verified  0.084370       helix  "
      ]
     },
     "execution_count": 4,
     "metadata": {},
     "output_type": "execute_result"
    }
   ],
   "source": [
    "df_hc.head(10)"
   ]
  },
  {
   "cell_type": "code",
   "execution_count": 8,
   "metadata": {},
   "outputs": [],
   "source": [
    "from Bio.Seq import Seq\n",
    "from Bio.SeqRecord import SeqRecord\n",
    "\n",
    "records = []\n",
    "for index, row in df_hc.iterrows():\n",
    "    rec = SeqRecord(Seq(row['region.seq']),\n",
    "                    id=row['orf'], name=row['orf'],\n",
    "                    description=row['gene'])\n",
    "    records.append(rec)"
   ]
  },
  {
   "cell_type": "code",
   "execution_count": 9,
   "metadata": {},
   "outputs": [],
   "source": [
    "with open(\"../../data/fldpnn/hcr_seqs.fasta\", \"w\") as output_handle:\n",
    "    SeqIO.write(records, output_handle, \"fasta\")"
   ]
  },
  {
   "attachments": {},
   "cell_type": "markdown",
   "metadata": {},
   "source": [
    "### Figure S5a and S5b difficult to see. Add Notches."
   ]
  },
  {
   "attachments": {},
   "cell_type": "markdown",
   "metadata": {},
   "source": [
    "See `/figures/FigureS5.ipynb`."
   ]
  },
  {
   "attachments": {},
   "cell_type": "markdown",
   "metadata": {},
   "source": [
    "### In their logistic regression model, the authors assign disorder to either PLDDT scores > 70 and coil prediction by DSSP or to a PLDDT<50. What is the probability of observing each case?"
   ]
  },
  {
   "cell_type": "code",
   "execution_count": 2,
   "metadata": {},
   "outputs": [],
   "source": [
    "def get_percent_disorder(ss, bfactor, len_region):\n",
    "    cnt_coil = 0\n",
    "    cnt_lowconf = 0\n",
    "    for i, label in enumerate(ss):\n",
    "        if (label == 'C') and (bfactor[i] >= 70):\n",
    "            cnt_coil += 1\n",
    "        elif bfactor[i] < 50:\n",
    "            cnt_lowconf += 1\n",
    "    return cnt_coil, cnt_lowconf"
   ]
  },
  {
   "cell_type": "code",
   "execution_count": 3,
   "metadata": {},
   "outputs": [],
   "source": [
    "def get_disorder_probs(fdir, df):\n",
    "    tot_coil = 0\n",
    "    tot_lowconf = 0\n",
    "    for index, row in df.iterrows():\n",
    "        uni_id = row['uni_id']\n",
    "        fpath = fdir + 'AF-' + str(uni_id) + '-F1-model_v2.pdb'\n",
    "        left_bound = row['left.bound']\n",
    "        right_bound = row['right.bound']\n",
    "        if path.exists(fpath):\n",
    "            af_pdb = pa.read_af_output(fdir, uni_id)\n",
    "            ss = md.compute_dssp(af_pdb, simplified=True)[0]\n",
    "            region_ss = ss[left_bound:(right_bound+1)]\n",
    "            bfactor = pa.read_bfactor_from_pdb(fpath)[left_bound:(right_bound+1)]\n",
    "            len_region = right_bound - left_bound + 1\n",
    "\n",
    "            res = get_percent_disorder(region_ss, bfactor, len_region)\n",
    "            tot_coil += res[0]\n",
    "            tot_lowconf += res[1]\n",
    "    tot = tot_coil + tot_lowconf\n",
    "\n",
    "    return tot_coil / tot, tot_lowconf / tot"
   ]
  },
  {
   "cell_type": "code",
   "execution_count": 4,
   "metadata": {},
   "outputs": [],
   "source": [
    "fdir = '/Users/rosalindpan/drummondlab/hcrpaper_data/scerevisiae_alphafold/'"
   ]
  },
  {
   "attachments": {},
   "cell_type": "markdown",
   "metadata": {},
   "source": [
    "For highly charged regions"
   ]
  },
  {
   "cell_type": "code",
   "execution_count": 50,
   "metadata": {},
   "outputs": [
    {
     "name": "stderr",
     "output_type": "stream",
     "text": [
      "/Users/rosalindpan/opt/anaconda3/envs/env_hcr/lib/python3.9/site-packages/mdtraj/formats/pdb/pdbfile.py:200: UserWarning: Unlikely unit cell vectors detected in PDB file likely resulting from a dummy CRYST1 record. Discarding unit cell vectors.\n",
      "  warnings.warn('Unlikely unit cell vectors detected in PDB file likely '\n"
     ]
    },
    {
     "name": "stdout",
     "output_type": "stream",
     "text": [
      "For a residue that is classified as disordered, the probability that it's a confidently predicted coil (PLDDT score > 70 and coil prediction by DSSP) is 0.10 and the probability that it has low confidence score (PLDDT < 50) is 0.90.\n"
     ]
    }
   ],
   "source": [
    "df = pd.read_csv(\"../../data/charged_regions/cr_trimmed_filtered_aflabel.csv\")\n",
    "prob_coil, prob_lowconf = get_disorder_probs(fdir, df)\n",
    "\n",
    "print(\"For a residue that is classified as disordered, the probability that it's a confidently predicted coil (PLDDT score > 70 and coil prediction by DSSP) is {:.2f} and the probability that it has low confidence score (PLDDT < 50) is {:.2f}.\".format(prob_coil, prob_lowconf))"
   ]
  },
  {
   "attachments": {},
   "cell_type": "markdown",
   "metadata": {},
   "source": [
    "For randomly drawn regions"
   ]
  },
  {
   "cell_type": "code",
   "execution_count": 53,
   "metadata": {},
   "outputs": [
    {
     "name": "stderr",
     "output_type": "stream",
     "text": [
      "/Users/rosalindpan/opt/anaconda3/envs/env_hcr/lib/python3.9/site-packages/mdtraj/formats/pdb/pdbfile.py:200: UserWarning: Unlikely unit cell vectors detected in PDB file likely resulting from a dummy CRYST1 record. Discarding unit cell vectors.\n",
      "  warnings.warn('Unlikely unit cell vectors detected in PDB file likely '\n"
     ]
    },
    {
     "name": "stdout",
     "output_type": "stream",
     "text": [
      "For a residue that is classified as disordered, the probability that it's a confidently predicted coil (PLDDT score > 70 and coil prediction by DSSP) is 0.31 and the probability that it has low confidence score (PLDDT < 50) is 0.69.\n"
     ]
    }
   ],
   "source": [
    "df_random = pd.read_csv('../../data/af_regions/random_af_regions_low_thresh.csv')\n",
    "df_random.rename({'left_bound': 'left.bound', 'right_bound': 'right.bound'}, axis=1, inplace=True)\n",
    "prob_coil, prob_lowconf = get_disorder_probs(fdir, df_random)\n",
    "\n",
    "print(\"For a residue that is classified as disordered, the probability that it's a confidently predicted coil (PLDDT score > 70 and coil prediction by DSSP) is {:.2f} and the probability that it has low confidence score (PLDDT < 50) is {:.2f}.\".format(prob_coil, prob_lowconf))"
   ]
  },
  {
   "attachments": {},
   "cell_type": "markdown",
   "metadata": {},
   "source": [
    "For all regions"
   ]
  },
  {
   "cell_type": "code",
   "execution_count": 5,
   "metadata": {},
   "outputs": [
    {
     "name": "stderr",
     "output_type": "stream",
     "text": [
      "/Users/rosalindpan/opt/anaconda3/envs/env_hcr/lib/python3.9/site-packages/mdtraj/formats/pdb/pdbfile.py:200: UserWarning: Unlikely unit cell vectors detected in PDB file likely resulting from a dummy CRYST1 record. Discarding unit cell vectors.\n",
      "  warnings.warn('Unlikely unit cell vectors detected in PDB file likely '\n"
     ]
    },
    {
     "name": "stdout",
     "output_type": "stream",
     "text": [
      "For a residue that is classified as disordered, the probability that it's a confidently predicted coil (PLDDT score > 70 and coil prediction by DSSP) is 0.01 and the probability that it has low confidence score (PLDDT < 50) is 0.99.\n"
     ]
    }
   ],
   "source": [
    "df = pd.read_csv('../../data/af_regions/sc_af_regions_all.csv')\n",
    "df.rename({'start': 'left.bound', 'end': 'right.bound'}, axis=1, inplace=True)\n",
    "prob_coil, prob_lowconf = get_disorder_probs(fdir, df)\n",
    "\n",
    "print(\"For a residue that is classified as disordered, the probability that it's a confidently predicted coil (PLDDT score > 70 and coil prediction by DSSP) is {:.2f} and the probability that it has low confidence score (PLDDT < 50) is {:.2f}.\".format(prob_coil, prob_lowconf))"
   ]
  },
  {
   "attachments": {},
   "cell_type": "markdown",
   "metadata": {},
   "source": [
    "### What is the prevalence of highly-charged sequences in other proteomes (such as the human one)?"
   ]
  },
  {
   "cell_type": "code",
   "execution_count": 2,
   "metadata": {},
   "outputs": [],
   "source": [
    "records = {}\n",
    "with open('../../data/ref_proteomes/Homo_sapiens.fasta') as handle:\n",
    "    for record in SeqIO.parse(handle, 'fasta'):\n",
    "        records[record.id] = str(record.seq)"
   ]
  },
  {
   "cell_type": "code",
   "execution_count": 3,
   "metadata": {},
   "outputs": [
    {
     "data": {
      "text/plain": [
       "114963"
      ]
     },
     "execution_count": 3,
     "metadata": {},
     "output_type": "execute_result"
    }
   ],
   "source": [
    "len(records)"
   ]
  },
  {
   "cell_type": "code",
   "execution_count": 4,
   "metadata": {},
   "outputs": [
    {
     "data": {
      "text/html": [
       "<div>\n",
       "<style scoped>\n",
       "    .dataframe tbody tr th:only-of-type {\n",
       "        vertical-align: middle;\n",
       "    }\n",
       "\n",
       "    .dataframe tbody tr th {\n",
       "        vertical-align: top;\n",
       "    }\n",
       "\n",
       "    .dataframe thead th {\n",
       "        text-align: right;\n",
       "    }\n",
       "</style>\n",
       "<table border=\"1\" class=\"dataframe\">\n",
       "  <thead>\n",
       "    <tr style=\"text-align: right;\">\n",
       "      <th></th>\n",
       "      <th>orf</th>\n",
       "      <th>gene</th>\n",
       "      <th>seq.len</th>\n",
       "      <th>left.bound</th>\n",
       "      <th>right.bound</th>\n",
       "      <th>region.seq</th>\n",
       "      <th>region.len</th>\n",
       "      <th>charge.asymmetry</th>\n",
       "      <th>frac.charge</th>\n",
       "      <th>kappa1</th>\n",
       "      <th>kappa2</th>\n",
       "    </tr>\n",
       "  </thead>\n",
       "  <tbody>\n",
       "    <tr>\n",
       "      <th>0</th>\n",
       "      <td>NP_000029.2</td>\n",
       "      <td>adenomatous</td>\n",
       "      <td>2843</td>\n",
       "      <td>1532</td>\n",
       "      <td>1580</td>\n",
       "      <td>NGNETESEQPKESNENQEKEAEKTIDSEKDLLDDSDDDDIEILEECIIS</td>\n",
       "      <td>49</td>\n",
       "      <td>0.217687</td>\n",
       "      <td>0.489796</td>\n",
       "      <td>0.079031</td>\n",
       "      <td>0.279810</td>\n",
       "    </tr>\n",
       "    <tr>\n",
       "      <th>1</th>\n",
       "      <td>NP_000030.1</td>\n",
       "      <td>apolipoprotein</td>\n",
       "      <td>267</td>\n",
       "      <td>91</td>\n",
       "      <td>152</td>\n",
       "      <td>TQEFWDNLEKETEGLRQEMSKDLEEVKAKVQPYLDDFQKKWQEEME...</td>\n",
       "      <td>62</td>\n",
       "      <td>0.029271</td>\n",
       "      <td>0.435484</td>\n",
       "      <td>0.051507</td>\n",
       "      <td>0.138749</td>\n",
       "    </tr>\n",
       "    <tr>\n",
       "      <th>2</th>\n",
       "      <td>NP_000032.1</td>\n",
       "      <td>apolipoprotein</td>\n",
       "      <td>317</td>\n",
       "      <td>224</td>\n",
       "      <td>267</td>\n",
       "      <td>AQAWGERLRARMEEMGSRTRDRLDEVKEQVAEVRAKLEEQAQQI</td>\n",
       "      <td>44</td>\n",
       "      <td>0.001196</td>\n",
       "      <td>0.431818</td>\n",
       "      <td>0.042555</td>\n",
       "      <td>0.114889</td>\n",
       "    </tr>\n",
       "    <tr>\n",
       "      <th>3</th>\n",
       "      <td>NP_000042.3</td>\n",
       "      <td>serine-protein</td>\n",
       "      <td>3056</td>\n",
       "      <td>9</td>\n",
       "      <td>53</td>\n",
       "      <td>ICCRQLEHDRATERKKEVEKFKRLIRDPETIKHLDRHSDSKQGKY</td>\n",
       "      <td>45</td>\n",
       "      <td>0.043556</td>\n",
       "      <td>0.488889</td>\n",
       "      <td>0.029856</td>\n",
       "      <td>0.069648</td>\n",
       "    </tr>\n",
       "    <tr>\n",
       "      <th>4</th>\n",
       "      <td>NP_000055.2</td>\n",
       "      <td>complement</td>\n",
       "      <td>1663</td>\n",
       "      <td>1488</td>\n",
       "      <td>1541</td>\n",
       "      <td>CTRFYHPEKEDGKLNKLCRDELCRCAEENCFIQKSDDKVTLEERLD...</td>\n",
       "      <td>54</td>\n",
       "      <td>0.006667</td>\n",
       "      <td>0.444444</td>\n",
       "      <td>0.034862</td>\n",
       "      <td>0.089707</td>\n",
       "    </tr>\n",
       "    <tr>\n",
       "      <th>5</th>\n",
       "      <td>NP_000059.3</td>\n",
       "      <td>voltage-dependent</td>\n",
       "      <td>2266</td>\n",
       "      <td>938</td>\n",
       "      <td>1040</td>\n",
       "      <td>RQGGSRESRSGSPRTGADGEHRRHRAHRRPGEEGPEDKAERRARHR...</td>\n",
       "      <td>103</td>\n",
       "      <td>0.049225</td>\n",
       "      <td>0.485437</td>\n",
       "      <td>0.144546</td>\n",
       "      <td>0.322122</td>\n",
       "    </tr>\n",
       "    <tr>\n",
       "      <th>6</th>\n",
       "      <td>NP_000060.2</td>\n",
       "      <td>voltage-dependent</td>\n",
       "      <td>1873</td>\n",
       "      <td>669</td>\n",
       "      <td>715</td>\n",
       "      <td>LTSAQKAKAEEKKRRKMSKGLPDKSEEEKSTMAKKLEQKPKGEGIPT</td>\n",
       "      <td>47</td>\n",
       "      <td>0.034816</td>\n",
       "      <td>0.468085</td>\n",
       "      <td>0.078154</td>\n",
       "      <td>0.201243</td>\n",
       "    </tr>\n",
       "    <tr>\n",
       "      <th>7</th>\n",
       "      <td>NP_000078.3</td>\n",
       "      <td>cGMP-gated</td>\n",
       "      <td>686</td>\n",
       "      <td>88</td>\n",
       "      <td>155</td>\n",
       "      <td>NNSSNKDQEPEEKKKKKKEKKSKSDDKNENKNDPEKKKKKKDKEKK...</td>\n",
       "      <td>68</td>\n",
       "      <td>0.024310</td>\n",
       "      <td>0.720588</td>\n",
       "      <td>0.089758</td>\n",
       "      <td>0.130267</td>\n",
       "    </tr>\n",
       "    <tr>\n",
       "      <th>8</th>\n",
       "      <td>NP_000086.2</td>\n",
       "      <td>cartilage</td>\n",
       "      <td>757</td>\n",
       "      <td>329</td>\n",
       "      <td>385</td>\n",
       "      <td>LVRNPDQRNTDEDKWGDACDNCRSQKNDDQKDTDQDGRGDACDDDI...</td>\n",
       "      <td>57</td>\n",
       "      <td>0.052632</td>\n",
       "      <td>0.473684</td>\n",
       "      <td>0.067017</td>\n",
       "      <td>0.172349</td>\n",
       "    </tr>\n",
       "    <tr>\n",
       "      <th>9</th>\n",
       "      <td>NP_000094.2</td>\n",
       "      <td>aromatase</td>\n",
       "      <td>503</td>\n",
       "      <td>235</td>\n",
       "      <td>280</td>\n",
       "      <td>KISWLYKKYEKSVKDLKDAIEVLIAEKRRRISTEEKLEECMDFATE</td>\n",
       "      <td>46</td>\n",
       "      <td>0.000000</td>\n",
       "      <td>0.478261</td>\n",
       "      <td>0.076768</td>\n",
       "      <td>0.178206</td>\n",
       "    </tr>\n",
       "  </tbody>\n",
       "</table>\n",
       "</div>"
      ],
      "text/plain": [
       "           orf               gene  seq.len  left.bound  right.bound  \\\n",
       "0  NP_000029.2        adenomatous     2843        1532         1580   \n",
       "1  NP_000030.1     apolipoprotein      267          91          152   \n",
       "2  NP_000032.1     apolipoprotein      317         224          267   \n",
       "3  NP_000042.3     serine-protein     3056           9           53   \n",
       "4  NP_000055.2         complement     1663        1488         1541   \n",
       "5  NP_000059.3  voltage-dependent     2266         938         1040   \n",
       "6  NP_000060.2  voltage-dependent     1873         669          715   \n",
       "7  NP_000078.3         cGMP-gated      686          88          155   \n",
       "8  NP_000086.2          cartilage      757         329          385   \n",
       "9  NP_000094.2          aromatase      503         235          280   \n",
       "\n",
       "                                          region.seq  region.len  \\\n",
       "0  NGNETESEQPKESNENQEKEAEKTIDSEKDLLDDSDDDDIEILEECIIS          49   \n",
       "1  TQEFWDNLEKETEGLRQEMSKDLEEVKAKVQPYLDDFQKKWQEEME...          62   \n",
       "2       AQAWGERLRARMEEMGSRTRDRLDEVKEQVAEVRAKLEEQAQQI          44   \n",
       "3      ICCRQLEHDRATERKKEVEKFKRLIRDPETIKHLDRHSDSKQGKY          45   \n",
       "4  CTRFYHPEKEDGKLNKLCRDELCRCAEENCFIQKSDDKVTLEERLD...          54   \n",
       "5  RQGGSRESRSGSPRTGADGEHRRHRAHRRPGEEGPEDKAERRARHR...         103   \n",
       "6    LTSAQKAKAEEKKRRKMSKGLPDKSEEEKSTMAKKLEQKPKGEGIPT          47   \n",
       "7  NNSSNKDQEPEEKKKKKKEKKSKSDDKNENKNDPEKKKKKKDKEKK...          68   \n",
       "8  LVRNPDQRNTDEDKWGDACDNCRSQKNDDQKDTDQDGRGDACDDDI...          57   \n",
       "9     KISWLYKKYEKSVKDLKDAIEVLIAEKRRRISTEEKLEECMDFATE          46   \n",
       "\n",
       "   charge.asymmetry  frac.charge    kappa1    kappa2  \n",
       "0          0.217687     0.489796  0.079031  0.279810  \n",
       "1          0.029271     0.435484  0.051507  0.138749  \n",
       "2          0.001196     0.431818  0.042555  0.114889  \n",
       "3          0.043556     0.488889  0.029856  0.069648  \n",
       "4          0.006667     0.444444  0.034862  0.089707  \n",
       "5          0.049225     0.485437  0.144546  0.322122  \n",
       "6          0.034816     0.468085  0.078154  0.201243  \n",
       "7          0.024310     0.720588  0.089758  0.130267  \n",
       "8          0.052632     0.473684  0.067017  0.172349  \n",
       "9          0.000000     0.478261  0.076768  0.178206  "
      ]
     },
     "execution_count": 4,
     "metadata": {},
     "output_type": "execute_result"
    }
   ],
   "source": [
    "cr_hs = pd.read_csv('../../data/charged_regions/cr_homo_sapiens.csv', comment='#')\n",
    "cr_hs.head(10)"
   ]
  },
  {
   "cell_type": "code",
   "execution_count": 5,
   "metadata": {},
   "outputs": [
    {
     "name": "stdout",
     "output_type": "stream",
     "text": [
      "We extracted 29013 highly charged regions from the Human proteome\n",
      "About 16.5% of protein-coding genes encode at least one highly charged region.\n"
     ]
    }
   ],
   "source": [
    "print('We extracted {} highly charged regions from the Human proteome'.format(len(cr_hs)))\n",
    "print('About {:.1f}% of protein-coding genes encode at least one highly charged region.'.format(cr_hs['orf'].nunique() / len(records) * 100))"
   ]
  },
  {
   "attachments": {},
   "cell_type": "markdown",
   "metadata": {},
   "source": [
    "### Fig 2A: why is there a sudden jump in highly-charged and Random distributions at low/high fractions?"
   ]
  },
  {
   "cell_type": "code",
   "execution_count": 2,
   "metadata": {},
   "outputs": [],
   "source": [
    "df = pd.read_csv('../../data/charged_regions/cr_trimmed_filtered.csv',\n",
    "                comment=\"#\")"
   ]
  },
  {
   "cell_type": "code",
   "execution_count": 3,
   "metadata": {},
   "outputs": [],
   "source": [
    "tot_len = 0\n",
    "for index, row in df.iterrows():\n",
    "    tot_len += len(row['region.seq'])"
   ]
  },
  {
   "cell_type": "code",
   "execution_count": 4,
   "metadata": {},
   "outputs": [],
   "source": [
    "# Load data\n",
    "hits_disordered_frac = np.loadtxt(\"../../data/af_ss_processed/hits_trimmed_disordered_frac.txt\")\n",
    "rand_disordered_frac = np.loadtxt(\"../../data/af_ss_processed/rand_trimmed_disordered_frac.txt\")\n",
    "idr_disordered_frac = np.loadtxt(\"../../data/af_ss_processed/idr_disordered_frac.txt\")"
   ]
  },
  {
   "cell_type": "code",
   "execution_count": 8,
   "metadata": {},
   "outputs": [
    {
     "data": {
      "image/png": "[encoded data removed]",
      "text/plain": [
       "<Figure size 309.6x201.6 with 1 Axes>"
      ]
     },
     "metadata": {
      "needs_background": "light"
     },
     "output_type": "display_data"
    }
   ],
   "source": [
    "fig, ax = plt.subplots(1, figsize=(4.3,2.8),\n",
    "                         sharex=True, sharey=True)\n",
    "\n",
    "sns.kdeplot(hits_disordered_frac, color=cscheme['dis'], label='DisProt', bw_adjust=0.5, cut=0)\n",
    "sns.kdeplot(rand_disordered_frac, color=cscheme['null'], label='Random', bw_adjust=0.5, cut=0)\n",
    "sns.kdeplot(idr_disordered_frac, color=cscheme['cr'], label='Highly charged', bw_adjust=0.5, cut=0)\n",
    "\n",
    "plt.xlabel('Fraction of disordered residues in region')\n",
    "plt.ylabel('Density')\n",
    "L = plt.legend(bbox_to_anchor=(1.05, 1.2), ncol=3, columnspacing=1, frameon=False, handlelength=.65)\n",
    "\n",
    "plt.savefig('../../figures/plots/Figure2A.png', dpi=300, bbox_inches='tight')\n",
    "#plt.tight_layout()\n",
    "plt.show()"
   ]
  },
  {
   "cell_type": "code",
   "execution_count": 44,
   "metadata": {},
   "outputs": [
    {
     "data": {
      "image/png": "[encoded data removed]",
      "text/plain": [
       "<Figure size 720x252 with 4 Axes>"
      ]
     },
     "metadata": {
      "needs_background": "light"
     },
     "output_type": "display_data"
    }
   ],
   "source": [
    "fig, axes = plt.subplots(1, 3, figsize=(10, 3.5),\n",
    "                         sharex=True, sharey=True)\n",
    "ax1, ax2, ax3 = axes\n",
    "\n",
    "ax1.hist(hits_disordered_frac, bins=50, color=cscheme['dis'])\n",
    "ax1.set_title('Highly charge', fontsize=12)\n",
    "\n",
    "ax2.hist(rand_disordered_frac, bins=50, color=cscheme['null'])\n",
    "ax2.set_title('Random', fontsize=12)\n",
    "\n",
    "ax3.hist(idr_disordered_frac, bins=50, color=cscheme['cr'])\n",
    "ax3.set_title('DisProt', fontsize=12)\n",
    "\n",
    "ax1.set_ylabel('Density')\n",
    "\n",
    "fig.add_subplot(111, frameon=False)\n",
    "plt.tick_params(labelcolor='none', top=False, bottom=False, left=False, right=False)\n",
    "plt.grid(False)\n",
    "plt.xlabel(\"Fraction of disordered residues in region\")\n",
    "\n",
    "#plt.savefig('./plots/Figure2A.png', dpi=300, bbox_inches='tight')\n",
    "plt.tight_layout()\n",
    "plt.show()"
   ]
  },
  {
   "attachments": {},
   "cell_type": "markdown",
   "metadata": {},
   "source": [
    "### Include an Uversky-like plot that κ vs FCR colored as helix/disordered as determined by AF"
   ]
  },
  {
   "cell_type": "code",
   "execution_count": 6,
   "metadata": {},
   "outputs": [],
   "source": [
    "df = pd.read_csv(\"../../data/charged_regions/cr_trimmed_filtered_aflabel.csv\")"
   ]
  },
  {
   "cell_type": "code",
   "execution_count": 8,
   "metadata": {},
   "outputs": [
    {
     "data": {
      "image/png": "[encoded data removed]",
      "text/plain": [
       "<Figure size 288x201.6 with 1 Axes>"
      ]
     },
     "metadata": {
      "needs_background": "light"
     },
     "output_type": "display_data"
    }
   ],
   "source": [
    "plt.figure(figsize=(4, 2.8))\n",
    "sns.scatterplot(x = \"kappa\", y = \"frac.charge\", hue=\"label\", data=df,\n",
    "                palette=[cscheme[\"dis\"], cscheme[\"helix\"]], s=15, edgecolors=None, linewidth=0, alpha=0.6)\n",
    "plt.xlabel(\"Degree of charge mixing, $\\kappa$\")\n",
    "plt.ylabel(\"Fractional charge\")\n",
    "plt.legend(title=\"Majority prediction (from AlphaFold)\",\n",
    "           bbox_to_anchor=(0.95, 1.3), ncol=2, frameon=False, columnspacing=1)\n",
    "plt.savefig('../../figures/plots/FigureS2B-alt.png', dpi=300, bbox_inches='tight')\n",
    "plt.show()"
   ]
  },
  {
   "cell_type": "code",
   "execution_count": null,
   "metadata": {},
   "outputs": [],
   "source": []
  }
 ],
 "metadata": {
  "kernelspec": {
   "display_name": "env_hcr",
   "language": "python",
   "name": "python3"
  },
  "language_info": {
   "codemirror_mode": {
    "name": "ipython",
    "version": 3
   },
   "file_extension": ".py",
   "mimetype": "text/x-python",
   "name": "python",
   "nbconvert_exporter": "python",
   "pygments_lexer": "ipython3",
   "version": "3.9.12"
  },
  "orig_nbformat": 4
 },
 "nbformat": 4,
 "nbformat_minor": 2
}
